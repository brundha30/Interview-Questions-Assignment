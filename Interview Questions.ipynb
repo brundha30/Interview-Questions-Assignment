{
 "cells": [
  {
   "cell_type": "markdown",
   "metadata": {},
   "source": [
    "# 1.What does immutable mean and what three types of Python core data types are considered immutable?\n"
   ]
  },
  {
   "cell_type": "markdown",
   "metadata": {},
   "source": [
    "An immutable data type is a type of object which cannot be modified after its creation. Numbers, strings, and tuples in Python fall into this category. "
   ]
  },
  {
   "cell_type": "markdown",
   "metadata": {},
   "source": [
    "# 2.Question 1: Scientific notation for float number 0.0001234 is _______\n",
    "\n",
    "\n"
   ]
  },
  {
   "cell_type": "markdown",
   "metadata": {},
   "source": [
    "A.1234e-10\n",
    "\n",
    "B.1.234e-04\n",
    "\n",
    "C.0.1234E-6\n",
    "\n",
    "D.None of the above\n",
    "\n",
    "Answer:B\n",
    "\n",
    "Explanation: The fractional part denoted by the decimal symbol, or the scientific notation using E or e used as a short representation to express floats having many digits."
   ]
  },
  {
   "cell_type": "markdown",
   "metadata": {},
   "source": [
    "# 3.What would be the result of executing the following code?"
   ]
  },
  {
   "cell_type": "markdown",
   "metadata": {},
   "source": [
    "A.TrueTrue\n",
    "\n",
    "B.True True\n",
    "\n",
    "C.2\n",
    "\n",
    "D.Syntax Error\n",
    "\n",
    "Answer:C\n",
    "\n",
    "Explanation: In python, True is boolean (notice the uppercase T) and True evaluates to 1 (False evaluates to 0) and hence 1 multiplied by 2 is 2"
   ]
  },
  {
   "cell_type": "markdown",
   "metadata": {},
   "source": [
    "# 4.Which operator is overloaded by the or() function?"
   ]
  },
  {
   "cell_type": "markdown",
   "metadata": {},
   "source": [
    "A. ||\n",
    "\n",
    "B. |\n",
    "\n",
    "C. //\n",
    "\n",
    "D. /\n",
    "\n",
    "Answer: B\n",
    "    \n",
    "Explanation:  or() function overloads the bitwise OR operator"
   ]
  },
  {
   "cell_type": "markdown",
   "metadata": {},
   "source": [
    "# 5.What does <> mean in Python?\n",
    "\n"
   ]
  },
  {
   "cell_type": "markdown",
   "metadata": {},
   "source": [
    "Ans: != or <> both symbols are used for expressing the not equal.\n",
    "\n",
    "<> It returns true statement if both the operands are false, otherwise false."
   ]
  },
  {
   "cell_type": "markdown",
   "metadata": {},
   "source": [
    "# 6.A company decided to give bonus of 5% to employee if his/her year of service is more than 5 years.Ask user for their salary and year of service and print the net bonus amount."
   ]
  },
  {
   "cell_type": "code",
   "execution_count": 4,
   "metadata": {},
   "outputs": [
    {
     "name": "stdout",
     "output_type": "stream",
     "text": [
      "Enter your salary:20000\n",
      "Enter the year of service:6\n",
      "Congragulations!Your bonus is 1000.0\n"
     ]
    }
   ],
   "source": [
    "salary = int(input(\"Enter your salary:\"))\n",
    "years =int(input(\"Enter the year of service:\"))\n",
    "\n",
    "if years>5:\n",
    "    print(\"Congragulations!Your bonus is\",.05*salary)\n",
    "else:\n",
    "    print(\"Sorry!You are not eligible for bonus.\")"
   ]
  },
  {
   "cell_type": "markdown",
   "metadata": {},
   "source": [
    "# 7.A shop will give discount of 10% if the cost of purchased quantity is more than 1000.Ask user for quantitySuppose, one unit will cost 100.Judge and print total cost for user."
   ]
  },
  {
   "cell_type": "code",
   "execution_count": 5,
   "metadata": {},
   "outputs": [
    {
     "name": "stdout",
     "output_type": "stream",
     "text": [
      "Enter the quantity:50\n",
      "Cost is 4500.0\n"
     ]
    }
   ],
   "source": [
    "quantity = int(input(\"Enter the quantity:\"))\n",
    "\n",
    "if quantity*100 >1000:\n",
    "    print(\"Cost is\",((quantity*100)-(.1*quantity*100)))\n",
    "else:\n",
    "    print(\"Cost is\",quantity*100)"
   ]
  },
  {
   "cell_type": "markdown",
   "metadata": {},
   "source": [
    "# 8.Accept the age of four people and accept the youngest one."
   ]
  },
  {
   "cell_type": "code",
   "execution_count": 7,
   "metadata": {},
   "outputs": [
    {
     "name": "stdout",
     "output_type": "stream",
     "text": [
      "Enter your age:22\n",
      "Enter your age:10\n",
      "Enter your age:33\n",
      "Enter your age:45\n",
      "The youngest person is 10\n"
     ]
    }
   ],
   "source": [
    "age1=int(input(\"Enter your age:\"))\n",
    "age2=int(input(\"Enter your age:\"))\n",
    "age3=int(input(\"Enter your age:\"))\n",
    "age4=int(input(\"Enter your age:\"))\n",
    "\n",
    "if age1 < age2 and age1<age3 and age1<age4:\n",
    "    print(\"The youngest person is\",age1)\n",
    "elif age2 < age1 and age2<age3 and age2<age4:\n",
    "    print(\"The youngest person is\",age2)\n",
    "elif age3 < age1 and age3<age2 and age1<age4:\n",
    "    print(\"The youngest person is\",age3)\n",
    "elif age4 < age1 and age4<age2 and age4<age3:\n",
    "    print(\"The youngest person is\",age4)"
   ]
  },
  {
   "cell_type": "markdown",
   "metadata": {},
   "source": [
    "# 9.Find the output of the given Python program?\n"
   ]
  },
  {
   "cell_type": "raw",
   "metadata": {},
   "source": [
    "a, b, c = 1, 3, 5\n",
    "if a > 0:\n",
    "  if b < 2:\n",
    "    print(\"Hi\")\n",
    "  elif c > 3:\n",
    "    print(\"Hello\")\n",
    "else:\n",
    "  print(\"Know Program\")"
   ]
  },
  {
   "cell_type": "markdown",
   "metadata": {},
   "source": [
    "A. Hi\n",
    "\n",
    "B. Hello\n",
    "\n",
    "C. Know Program\n",
    "\n",
    "D. Compiled Successfully, No Output.\n",
    "\n",
    "Answer: B"
   ]
  },
  {
   "cell_type": "markdown",
   "metadata": {},
   "source": [
    "# 10.What is the output of the given below program?"
   ]
  },
  {
   "cell_type": "raw",
   "metadata": {},
   "source": [
    "a = b = true\n",
    "if (a and b):\n",
    "    print(\"Hello\")\n",
    "else:\n",
    "    print(\"Know Program\")"
   ]
  },
  {
   "cell_type": "markdown",
   "metadata": {},
   "source": [
    "A. Hello\n",
    "\n",
    "B. Know Program\n",
    "\n",
    "C. Compiled Successfully, No Output.\n",
    "\n",
    "D. Error\n",
    "\n",
    "Answer: D\n",
    "    "
   ]
  },
  {
   "cell_type": "markdown",
   "metadata": {},
   "source": [
    "# 11.What’s the difference between positional parameters and default parameters in Python?"
   ]
  },
  {
   "cell_type": "markdown",
   "metadata": {},
   "source": [
    "Positional parameters are parameters that are required to be provided in order for the function to run. Default parameters are parameters that are not required to be provided, but have a default value that will be used if no other value is provided."
   ]
  },
  {
   "cell_type": "markdown",
   "metadata": {},
   "source": [
    "# 12.What recursion is and why it’s useful?"
   ]
  },
  {
   "cell_type": "markdown",
   "metadata": {},
   "source": [
    "Recursion is a function that calls itself. It’s useful because it allows you to break down a problem into smaller, more manageable pieces."
   ]
  },
  {
   "cell_type": "markdown",
   "metadata": {},
   "source": [
    "# 13.A return statement with _____ arguments."
   ]
  },
  {
   "cell_type": "markdown",
   "metadata": {},
   "source": [
    "A. No\n",
    "\n",
    "B. 1\n",
    "\n",
    "C. 2\n",
    "\n",
    "D. Any\n",
    "\n",
    "Answer: A\n",
    "\n",
    "Explanation: The statement return [expression] exits a function, optionally passing back an expression to the caller. A return statement with no arguments is the same as return None."
   ]
  },
  {
   "cell_type": "markdown",
   "metadata": {},
   "source": [
    "# 14.Which one of the following is incorrect?"
   ]
  },
  {
   "cell_type": "markdown",
   "metadata": {},
   "source": [
    "A. The variables used inside function are called local variables.\n",
    "\n",
    "B. The local variables of a particular function can be used inside other functions, but these cannot be used in global space\n",
    "\n",
    "C. The variables used outside function are called global variables\n",
    "\n",
    "D. In order to change the value of global variable inside function, keyword global is used.\n",
    "\n",
    "Answer:B"
   ]
  },
  {
   "cell_type": "markdown",
   "metadata": {},
   "source": [
    "# 15.Choose the correct option with reference to below Python code?"
   ]
  },
  {
   "cell_type": "raw",
   "metadata": {},
   "source": [
    "def fn(a):\n",
    "\n",
    "    print(a)\n",
    "\n",
    "x=90\n",
    "\n",
    "fn(x)\n"
   ]
  },
  {
   "cell_type": "markdown",
   "metadata": {},
   "source": [
    "A. x is the formal argument.\n",
    "\n",
    "B. a is the actual argument.\n",
    "\n",
    "C. fn(x) is the function signature.\n",
    "\n",
    "D. x is the actual argument.\n",
    "\n",
    "Answer: D\n",
    "\n",
    "Explanation: x is the actual argument that is the correct option with reference to below Python code.\n",
    "So option D is correct.\n",
    "\n"
   ]
  },
  {
   "cell_type": "markdown",
   "metadata": {},
   "source": [
    "# 16.Which of the following is True regarding loops in Python?"
   ]
  },
  {
   "cell_type": "markdown",
   "metadata": {},
   "source": [
    "A. Loops should be ended with keyword \"end\".\n",
    "\n",
    "B. No loop can be used to iterate through the elements of strings.\n",
    "\n",
    "C. Keyword \"break\" can be used to bring control out of the current loop.\n",
    "\n",
    "D. Keyword \"continue\" is used to continue with the remaining statements inside the loop.\n",
    "\n",
    "Answer: C"
   ]
  },
  {
   "cell_type": "markdown",
   "metadata": {},
   "source": [
    "# 17.What will be the output of given Python code?"
   ]
  },
  {
   "cell_type": "markdown",
   "metadata": {},
   "source": [
    "n=7\n",
    "c=0\n",
    "while(n):\n",
    "    if(n>5):\n",
    "        c=c+n-1\n",
    "        n=n-1\n",
    "    else:\n",
    "        break\n",
    "\n",
    "print(n)\n",
    "print(c)"
   ]
  },
  {
   "cell_type": "markdown",
   "metadata": {},
   "source": [
    "A. 5 11\n",
    "\n",
    "B. 5 9\n",
    "\n",
    "C. 7 11\n",
    "\n",
    "D. 5 2\n",
    "\n",
    "Answer: A"
   ]
  },
  {
   "cell_type": "markdown",
   "metadata": {},
   "source": [
    "# 18.What will be the output of the following Python code?"
   ]
  },
  {
   "cell_type": "code",
   "execution_count": 12,
   "metadata": {},
   "outputs": [],
   "source": [
    "list1 = [3 , 2 , 5 , 6 , 0 , 7, 9]\n",
    "sum = 0\n",
    "sum1 = 0\n",
    "for elem in list1:\n",
    "    if (elem % 2 == 0):\n",
    "        sum = sum + elem\n",
    "        continue\n",
    "    if (elem % 3 == 0):\n",
    "        sum1 = sum1 + elem\n",
    "\n",
    "print(sum , end=\" \")\n",
    "print(sum1)"
   ]
  },
  {
   "cell_type": "markdown",
   "metadata": {},
   "source": [
    "A. 8 9\n",
    "\n",
    "B. 8 3\n",
    "\n",
    "C. 2 3\n",
    "\n",
    "D. 8 12\n",
    "\n",
    "Answer: D"
   ]
  },
  {
   "cell_type": "markdown",
   "metadata": {},
   "source": [
    "# 19.What will be the output of the following Python code?"
   ]
  },
  {
   "cell_type": "markdown",
   "metadata": {},
   "source": [
    "str1=\"learn python\"\n",
    "str2=\"\"\n",
    "str3=\"\"\n",
    "for x in str1:\n",
    "    if(x==\"r\" or x==\"n\" or x==\"p\"):\n",
    "        str2+=x\n",
    "        pass\n",
    "    if(x==\"r\" or x==\"e\" or x==\"a\"):\n",
    "        str3+=x\n",
    "\n",
    "print(str2,end=\" \")\n",
    "print(str3)"
   ]
  },
  {
   "cell_type": "markdown",
   "metadata": {},
   "source": [
    "A. rnpn ea\n",
    "\n",
    "B. rnpn ear\n",
    "\n",
    "C. rnp ea\n",
    "\n",
    "D. rnp ear\n",
    "\n",
    "Answer: B"
   ]
  },
  {
   "cell_type": "markdown",
   "metadata": {},
   "source": [
    "# 20.Which of the following is False regarding loops in Python?"
   ]
  },
  {
   "cell_type": "markdown",
   "metadata": {},
   "source": [
    "A. Loops are used to perform certain tasks repeatedly.\n",
    "\n",
    "B. While loop is used when multiple statements are to executed repeatedly until the given condition becomes False\n",
    "\n",
    "C. While loop is used when multiple statements are to executed repeatedly until the given condition becomes True.\n",
    "\n",
    "D. for loop can be used to iterate through the elements of lists.\n",
    "\n",
    "Answer: B"
   ]
  },
  {
   "cell_type": "code",
   "execution_count": null,
   "metadata": {},
   "outputs": [],
   "source": []
  }
 ],
 "metadata": {
  "kernelspec": {
   "display_name": "Python 3",
   "language": "python",
   "name": "python3"
  },
  "language_info": {
   "codemirror_mode": {
    "name": "ipython",
    "version": 3
   },
   "file_extension": ".py",
   "mimetype": "text/x-python",
   "name": "python",
   "nbconvert_exporter": "python",
   "pygments_lexer": "ipython3",
   "version": "3.7.6"
  }
 },
 "nbformat": 4,
 "nbformat_minor": 4
}
